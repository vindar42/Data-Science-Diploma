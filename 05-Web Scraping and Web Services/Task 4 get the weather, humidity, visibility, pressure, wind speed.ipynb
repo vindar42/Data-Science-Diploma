{
 "cells": [
  {
   "cell_type": "code",
   "execution_count": 12,
   "id": "2e27e7e0",
   "metadata": {},
   "outputs": [
    {
     "name": "stdout",
     "output_type": "stream",
     "text": [
      "{\"request\":{\"type\":\"City\",\"query\":\"Cairo, Egypt\",\"language\":\"en\",\"unit\":\"m\"},\"location\":{\"name\":\"Cairo\",\"country\":\"Egypt\",\"region\":\"Al Qahirah\",\"lat\":\"30.050\",\"lon\":\"31.250\",\"timezone_id\":\"Africa\\/Cairo\",\"localtime\":\"2022-11-10 14:16\",\"localtime_epoch\":1668089760,\"utc_offset\":\"2.0\"},\"current\":{\"observation_time\":\"12:16 PM\",\"temperature\":24,\"weather_code\":116,\"weather_icons\":[\"https:\\/\\/cdn.worldweatheronline.com\\/images\\/wsymbols01_png_64\\/wsymbol_0002_sunny_intervals.png\"],\"weather_descriptions\":[\"Partly cloudy\"],\"wind_speed\":9,\"wind_degree\":10,\"wind_dir\":\"N\",\"pressure\":1016,\"precip\":0,\"humidity\":41,\"cloudcover\":75,\"feelslike\":24,\"uv_index\":7,\"visibility\":10,\"is_day\":\"yes\"}}\n"
     ]
    }
   ],
   "source": [
    "import requests\n",
    "from bs4 import BeautifulSoup\n",
    "import json\n",
    "\n",
    "url = \"http://api.weatherstack.com/current?access_key=cce43aa3a3de500cc32c5df0e67c9408&query=Cairo\"\n",
    "\n",
    "response = requests.get(url)\n",
    "print(response.text)"
   ]
  },
  {
   "cell_type": "code",
   "execution_count": 14,
   "id": "dc7796b8",
   "metadata": {},
   "outputs": [
    {
     "data": {
      "text/plain": [
       "{'request': {'type': 'City',\n",
       "  'query': 'Cairo, Egypt',\n",
       "  'language': 'en',\n",
       "  'unit': 'm'},\n",
       " 'location': {'name': 'Cairo',\n",
       "  'country': 'Egypt',\n",
       "  'region': 'Al Qahirah',\n",
       "  'lat': '30.050',\n",
       "  'lon': '31.250',\n",
       "  'timezone_id': 'Africa/Cairo',\n",
       "  'localtime': '2022-11-10 14:16',\n",
       "  'localtime_epoch': 1668089760,\n",
       "  'utc_offset': '2.0'},\n",
       " 'current': {'observation_time': '12:16 PM',\n",
       "  'temperature': 24,\n",
       "  'weather_code': 116,\n",
       "  'weather_icons': ['https://cdn.worldweatheronline.com/images/wsymbols01_png_64/wsymbol_0002_sunny_intervals.png'],\n",
       "  'weather_descriptions': ['Partly cloudy'],\n",
       "  'wind_speed': 9,\n",
       "  'wind_degree': 10,\n",
       "  'wind_dir': 'N',\n",
       "  'pressure': 1016,\n",
       "  'precip': 0,\n",
       "  'humidity': 41,\n",
       "  'cloudcover': 75,\n",
       "  'feelslike': 24,\n",
       "  'uv_index': 7,\n",
       "  'visibility': 10,\n",
       "  'is_day': 'yes'}}"
      ]
     },
     "execution_count": 14,
     "metadata": {},
     "output_type": "execute_result"
    }
   ],
   "source": [
    "json_respons = json.loads(response.text)\n",
    "json_respons"
   ]
  },
  {
   "cell_type": "code",
   "execution_count": 18,
   "id": "b5e3e4d1",
   "metadata": {},
   "outputs": [
    {
     "data": {
      "text/plain": [
       "{'observation_time': '12:16 PM',\n",
       " 'temperature': 24,\n",
       " 'weather_code': 116,\n",
       " 'weather_icons': ['https://cdn.worldweatheronline.com/images/wsymbols01_png_64/wsymbol_0002_sunny_intervals.png'],\n",
       " 'weather_descriptions': ['Partly cloudy'],\n",
       " 'wind_speed': 9,\n",
       " 'wind_degree': 10,\n",
       " 'wind_dir': 'N',\n",
       " 'pressure': 1016,\n",
       " 'precip': 0,\n",
       " 'humidity': 41,\n",
       " 'cloudcover': 75,\n",
       " 'feelslike': 24,\n",
       " 'uv_index': 7,\n",
       " 'visibility': 10,\n",
       " 'is_day': 'yes'}"
      ]
     },
     "execution_count": 18,
     "metadata": {},
     "output_type": "execute_result"
    }
   ],
   "source": [
    "current = json_respons[\"current\"]\n",
    "current"
   ]
  },
  {
   "cell_type": "code",
   "execution_count": 28,
   "id": "cd064d8e",
   "metadata": {
    "scrolled": true
   },
   "outputs": [],
   "source": [
    "import csv \n",
    "\n",
    "\n",
    "with open('get_weather.csv', 'w') as f:\n",
    "    writer = csv.DictWriter(f, fieldnames=['weather', 'humidity', 'visibility', 'wind_speed', 'pressure'])\n",
    "    writer.writeheader()\n",
    "    for i in range(10):\n",
    "    #for user in current:\n",
    "            weather = current[\"weather_descriptions\"][0]\n",
    "            humidity = current[\"humidity\"]\n",
    "            visibility = current['visibility']\n",
    "            pressure = current['pressure']\n",
    "            wind_speed = current['wind_speed']\n",
    "            writer.writerow({'weather': weather, 'humidity': humidity,  'visibility': visibility, 'wind_speed':wind_speed, 'pressure':pressure})\n",
    "            \n",
    "        "
   ]
  },
  {
   "cell_type": "code",
   "execution_count": 29,
   "id": "eb885858",
   "metadata": {},
   "outputs": [
    {
     "data": {
      "text/html": [
       "<div>\n",
       "<style scoped>\n",
       "    .dataframe tbody tr th:only-of-type {\n",
       "        vertical-align: middle;\n",
       "    }\n",
       "\n",
       "    .dataframe tbody tr th {\n",
       "        vertical-align: top;\n",
       "    }\n",
       "\n",
       "    .dataframe thead th {\n",
       "        text-align: right;\n",
       "    }\n",
       "</style>\n",
       "<table border=\"1\" class=\"dataframe\">\n",
       "  <thead>\n",
       "    <tr style=\"text-align: right;\">\n",
       "      <th></th>\n",
       "      <th>weather</th>\n",
       "      <th>humidity</th>\n",
       "      <th>visibility</th>\n",
       "      <th>wind_speed</th>\n",
       "      <th>pressure</th>\n",
       "    </tr>\n",
       "  </thead>\n",
       "  <tbody>\n",
       "    <tr>\n",
       "      <th>0</th>\n",
       "      <td>Partly cloudy</td>\n",
       "      <td>41</td>\n",
       "      <td>10</td>\n",
       "      <td>9</td>\n",
       "      <td>1016</td>\n",
       "    </tr>\n",
       "    <tr>\n",
       "      <th>1</th>\n",
       "      <td>Partly cloudy</td>\n",
       "      <td>41</td>\n",
       "      <td>10</td>\n",
       "      <td>9</td>\n",
       "      <td>1016</td>\n",
       "    </tr>\n",
       "    <tr>\n",
       "      <th>2</th>\n",
       "      <td>Partly cloudy</td>\n",
       "      <td>41</td>\n",
       "      <td>10</td>\n",
       "      <td>9</td>\n",
       "      <td>1016</td>\n",
       "    </tr>\n",
       "    <tr>\n",
       "      <th>3</th>\n",
       "      <td>Partly cloudy</td>\n",
       "      <td>41</td>\n",
       "      <td>10</td>\n",
       "      <td>9</td>\n",
       "      <td>1016</td>\n",
       "    </tr>\n",
       "    <tr>\n",
       "      <th>4</th>\n",
       "      <td>Partly cloudy</td>\n",
       "      <td>41</td>\n",
       "      <td>10</td>\n",
       "      <td>9</td>\n",
       "      <td>1016</td>\n",
       "    </tr>\n",
       "    <tr>\n",
       "      <th>5</th>\n",
       "      <td>Partly cloudy</td>\n",
       "      <td>41</td>\n",
       "      <td>10</td>\n",
       "      <td>9</td>\n",
       "      <td>1016</td>\n",
       "    </tr>\n",
       "    <tr>\n",
       "      <th>6</th>\n",
       "      <td>Partly cloudy</td>\n",
       "      <td>41</td>\n",
       "      <td>10</td>\n",
       "      <td>9</td>\n",
       "      <td>1016</td>\n",
       "    </tr>\n",
       "    <tr>\n",
       "      <th>7</th>\n",
       "      <td>Partly cloudy</td>\n",
       "      <td>41</td>\n",
       "      <td>10</td>\n",
       "      <td>9</td>\n",
       "      <td>1016</td>\n",
       "    </tr>\n",
       "    <tr>\n",
       "      <th>8</th>\n",
       "      <td>Partly cloudy</td>\n",
       "      <td>41</td>\n",
       "      <td>10</td>\n",
       "      <td>9</td>\n",
       "      <td>1016</td>\n",
       "    </tr>\n",
       "    <tr>\n",
       "      <th>9</th>\n",
       "      <td>Partly cloudy</td>\n",
       "      <td>41</td>\n",
       "      <td>10</td>\n",
       "      <td>9</td>\n",
       "      <td>1016</td>\n",
       "    </tr>\n",
       "  </tbody>\n",
       "</table>\n",
       "</div>"
      ],
      "text/plain": [
       "         weather  humidity  visibility  wind_speed  pressure\n",
       "0  Partly cloudy        41          10           9      1016\n",
       "1  Partly cloudy        41          10           9      1016\n",
       "2  Partly cloudy        41          10           9      1016\n",
       "3  Partly cloudy        41          10           9      1016\n",
       "4  Partly cloudy        41          10           9      1016\n",
       "5  Partly cloudy        41          10           9      1016\n",
       "6  Partly cloudy        41          10           9      1016\n",
       "7  Partly cloudy        41          10           9      1016\n",
       "8  Partly cloudy        41          10           9      1016\n",
       "9  Partly cloudy        41          10           9      1016"
      ]
     },
     "execution_count": 29,
     "metadata": {},
     "output_type": "execute_result"
    }
   ],
   "source": [
    "import pandas as pd\n",
    "\n",
    "data = pd.read_csv('get_weather.csv')\n",
    "data"
   ]
  },
  {
   "cell_type": "code",
   "execution_count": null,
   "id": "fe474051",
   "metadata": {},
   "outputs": [],
   "source": []
  }
 ],
 "metadata": {
  "kernelspec": {
   "display_name": "Python 3 (ipykernel)",
   "language": "python",
   "name": "python3"
  },
  "language_info": {
   "codemirror_mode": {
    "name": "ipython",
    "version": 3
   },
   "file_extension": ".py",
   "mimetype": "text/x-python",
   "name": "python",
   "nbconvert_exporter": "python",
   "pygments_lexer": "ipython3",
   "version": "3.9.13"
  }
 },
 "nbformat": 4,
 "nbformat_minor": 5
}
