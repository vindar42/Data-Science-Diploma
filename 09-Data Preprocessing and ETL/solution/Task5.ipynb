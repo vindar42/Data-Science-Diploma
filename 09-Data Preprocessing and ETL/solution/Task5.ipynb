{
 "cells": [
  {
   "cell_type": "code",
   "execution_count": 9,
   "id": "d73b821c",
   "metadata": {},
   "outputs": [],
   "source": [
    "import pandas as pd\n",
    "import numpy as np\n",
    "import seaborn as sns\n",
    "import matplotlib.pyplot as plt\n",
    "\n",
    "%matplotlib inline\n",
    "sns.set(rc={'figure.figsize': [10, 10]}, font_scale=1.2)"
   ]
  },
  {
   "cell_type": "code",
   "execution_count": null,
   "id": "5a7fd2cc",
   "metadata": {},
   "outputs": [],
   "source": [
    "df = pd.read_csv('../dastasets/visitor-interests.csv')\n",
    "df.head()"
   ]
  },
  {
   "cell_type": "code",
   "execution_count": 21,
   "id": "d7cbf40a",
   "metadata": {},
   "outputs": [],
   "source": [
    "from ip2geotools.databases.noncommercial import DbIpCity as ip2geo\n",
    "from datasist.feature_engineering import haversine_distance"
   ]
  },
  {
   "cell_type": "code",
   "execution_count": null,
   "id": "4cdb7cfd",
   "metadata": {},
   "outputs": [],
   "source": [
    "def extract_ip(x):\n",
    "    try:\n",
    "        response = ip2geo.get(x, api_key='free')\n",
    "        return pd.Series((response.latitude, response.longitude))\n",
    "    except:\n",
    "        return pd.Series((np.nan, np.nan))\n",
    "\n",
    "egypt_lat = 30.033333\n",
    "egypt_long = 31.233334\n",
    "\n",
    "df[['Latitude', 'Longitude']] = df['IP'].apply(extract_ip)\n",
    "df.head(50)"
   ]
  },
  {
   "cell_type": "code",
   "execution_count": null,
   "id": "d82a2779",
   "metadata": {},
   "outputs": [],
   "source": [
    "df['Dist_Pick_Dest'] = haversine_distance(df['Latitude'], df['Longitude'], egypt_lat, egypt_long)\n",
    "df.head()"
   ]
  },
  {
   "cell_type": "code",
   "execution_count": null,
   "id": "968cd2f5",
   "metadata": {},
   "outputs": [],
   "source": []
  }
 ],
 "metadata": {
  "kernelspec": {
   "display_name": "Python 3 (ipykernel)",
   "language": "python",
   "name": "python3"
  },
  "language_info": {
   "codemirror_mode": {
    "name": "ipython",
    "version": 3
   },
   "file_extension": ".py",
   "mimetype": "text/x-python",
   "name": "python",
   "nbconvert_exporter": "python",
   "pygments_lexer": "ipython3",
   "version": "3.9.13"
  }
 },
 "nbformat": 4,
 "nbformat_minor": 5
}
