{
 "cells": [
  {
   "cell_type": "code",
   "execution_count": 1,
   "id": "a23a0254",
   "metadata": {},
   "outputs": [
    {
     "data": {
      "text/plain": [
       "['Project 1 - Thanos',\n",
       " '02-Python Statements',\n",
       " '01-Python Data types',\n",
       " '00-Python Input and Output',\n",
       " '04-Built-in Modules',\n",
       " '03-Functions']"
      ]
     },
     "execution_count": 1,
     "metadata": {},
     "output_type": "execute_result"
    }
   ],
   "source": [
    "# 1- Open code Folder.\n",
    "import os\n",
    "fol = os.listdir('../../code')\n",
    "fol"
   ]
  },
  {
   "cell_type": "code",
   "execution_count": 2,
   "id": "4426fba4",
   "metadata": {},
   "outputs": [
    {
     "data": {
      "text/plain": [
       "['05-Functions and Methods Homework.ipynb',\n",
       " '04-Variable Scope.ipynb',\n",
       " '01-Functions.ipynb',\n",
       " '02-Function Practice Exercises.ipynb',\n",
       " '.ipynb_checkpoints',\n",
       " '03-Lambda-Expressions-Map-and-Filter-and Reduce.ipynb']"
      ]
     },
     "execution_count": 2,
     "metadata": {},
     "output_type": "execute_result"
    }
   ],
   "source": [
    "# 2.Open 01-Python Data types Folder.\n",
    "func = os.listdir('../../code/03-Functions')\n",
    "func"
   ]
  },
  {
   "cell_type": "code",
   "execution_count": null,
   "id": "2e7dca26",
   "metadata": {},
   "outputs": [],
   "source": []
  }
 ],
 "metadata": {
  "kernelspec": {
   "display_name": "Python 3 (ipykernel)",
   "language": "python",
   "name": "python3"
  },
  "language_info": {
   "codemirror_mode": {
    "name": "ipython",
    "version": 3
   },
   "file_extension": ".py",
   "mimetype": "text/x-python",
   "name": "python",
   "nbconvert_exporter": "python",
   "pygments_lexer": "ipython3",
   "version": "3.10.6"
  }
 },
 "nbformat": 4,
 "nbformat_minor": 5
}
