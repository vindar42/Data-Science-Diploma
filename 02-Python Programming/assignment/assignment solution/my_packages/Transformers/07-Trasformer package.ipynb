{
 "cells": [
  {
   "cell_type": "code",
   "execution_count": 12,
   "id": "6cb1ca2b",
   "metadata": {},
   "outputs": [
    {
     "name": "stdout",
     "output_type": "stream",
     "text": [
      "dlrow olleh\n",
      "Hello world\n"
     ]
    }
   ],
   "source": [
    "from StringTransformer import reverse_string, capital_string\n",
    "st = \"hello world\"\n",
    "\n",
    "\n",
    "if __name__== \"__main__\":\n",
    "    print(reverse_string(st))\n",
    "    print(capital_string(st))"
   ]
  },
  {
   "cell_type": "code",
   "execution_count": null,
   "id": "87609ae9",
   "metadata": {},
   "outputs": [],
   "source": []
  }
 ],
 "metadata": {
  "kernelspec": {
   "display_name": "Python 3 (ipykernel)",
   "language": "python",
   "name": "python3"
  },
  "language_info": {
   "codemirror_mode": {
    "name": "ipython",
    "version": 3
   },
   "file_extension": ".py",
   "mimetype": "text/x-python",
   "name": "python",
   "nbconvert_exporter": "python",
   "pygments_lexer": "ipython3",
   "version": "3.10.6"
  }
 },
 "nbformat": 4,
 "nbformat_minor": 5
}
