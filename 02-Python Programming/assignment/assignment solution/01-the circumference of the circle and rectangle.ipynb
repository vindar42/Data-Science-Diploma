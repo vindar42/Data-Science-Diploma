{
 "cells": [
  {
   "cell_type": "code",
   "execution_count": 1,
   "id": "b8d96d0e",
   "metadata": {},
   "outputs": [
    {
     "name": "stdout",
     "output_type": "stream",
     "text": [
      "pleas enter the raduis: 10\n"
     ]
    }
   ],
   "source": [
    "r = int(input(\"pleas enter the raduis: \"))\n",
    "\n",
    "def circumference_of_circle(radius):\n",
    "    return 2*3.14*radius"
   ]
  },
  {
   "cell_type": "code",
   "execution_count": 2,
   "id": "05afee64",
   "metadata": {},
   "outputs": [
    {
     "data": {
      "text/plain": [
       "62.800000000000004"
      ]
     },
     "execution_count": 2,
     "metadata": {},
     "output_type": "execute_result"
    }
   ],
   "source": [
    "circumference_of_circle(r)"
   ]
  },
  {
   "cell_type": "code",
   "execution_count": 3,
   "id": "76e97141",
   "metadata": {},
   "outputs": [
    {
     "name": "stdout",
     "output_type": "stream",
     "text": [
      "pleas enter the length of rectangle: 10\n",
      "pleas enter the width of rectangle: 20\n"
     ]
    }
   ],
   "source": [
    "# circumference of regtangle\n",
    "l = int(input(\"pleas enter the length of rectangle: \"))\n",
    "w = int(input(\"pleas enter the width of rectangle: \"))\n",
    "\n",
    "def circumference_of_rectangle(length, width):\n",
    "    return 2*(length + width)"
   ]
  },
  {
   "cell_type": "code",
   "execution_count": 4,
   "id": "1e4d8235",
   "metadata": {},
   "outputs": [
    {
     "data": {
      "text/plain": [
       "60"
      ]
     },
     "execution_count": 4,
     "metadata": {},
     "output_type": "execute_result"
    }
   ],
   "source": [
    "circumference_of_rectangle(l, w)"
   ]
  }
 ],
 "metadata": {
  "kernelspec": {
   "display_name": "Python 3 (ipykernel)",
   "language": "python",
   "name": "python3"
  },
  "language_info": {
   "codemirror_mode": {
    "name": "ipython",
    "version": 3
   },
   "file_extension": ".py",
   "mimetype": "text/x-python",
   "name": "python",
   "nbconvert_exporter": "python",
   "pygments_lexer": "ipython3",
   "version": "3.10.6"
  }
 },
 "nbformat": 4,
 "nbformat_minor": 5
}
