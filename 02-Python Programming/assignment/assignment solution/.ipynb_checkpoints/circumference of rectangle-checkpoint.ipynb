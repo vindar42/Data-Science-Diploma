{
 "cells": [
  {
   "cell_type": "code",
   "execution_count": 12,
   "id": "9b7bb460",
   "metadata": {},
   "outputs": [
    {
     "name": "stdout",
     "output_type": "stream",
     "text": [
      "pleas enter the length of rectangle: 10\n",
      "pleas enter the width of rectangle: 20\n"
     ]
    }
   ],
   "source": [
    "l = int(input(\"pleas enter the length of rectangle: \"))\n",
    "w = int(input(\"pleas enter the width of rectangle: \"))\n",
    "\n",
    "def circumference_of_rectangle(length, width):\n",
    "    return 2*(length + width)\n"
   ]
  },
  {
   "cell_type": "code",
   "execution_count": 13,
   "id": "60ddfca7",
   "metadata": {},
   "outputs": [
    {
     "data": {
      "text/plain": [
       "60"
      ]
     },
     "execution_count": 13,
     "metadata": {},
     "output_type": "execute_result"
    }
   ],
   "source": [
    "circumference_of_rectangle(l, w)"
   ]
  }
 ],
 "metadata": {
  "kernelspec": {
   "display_name": "Python 3 (ipykernel)",
   "language": "python",
   "name": "python3"
  },
  "language_info": {
   "codemirror_mode": {
    "name": "ipython",
    "version": 3
   },
   "file_extension": ".py",
   "mimetype": "text/x-python",
   "name": "python",
   "nbconvert_exporter": "python",
   "pygments_lexer": "ipython3",
   "version": "3.10.6"
  }
 },
 "nbformat": 4,
 "nbformat_minor": 5
}
