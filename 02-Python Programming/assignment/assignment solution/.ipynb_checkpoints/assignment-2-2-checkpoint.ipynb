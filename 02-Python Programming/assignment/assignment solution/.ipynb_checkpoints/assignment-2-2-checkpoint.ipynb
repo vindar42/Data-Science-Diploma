{
 "cells": [
  {
   "cell_type": "code",
   "execution_count": 105,
   "id": "14a8f625",
   "metadata": {},
   "outputs": [],
   "source": [
    "# create file name if test.txt\n",
    "with open('test.txt', 'w') as my_file:\n",
    "    my_file.writelines('hello world\\n'*5)\n"
   ]
  },
  {
   "cell_type": "code",
   "execution_count": 111,
   "id": "8d7ae622",
   "metadata": {},
   "outputs": [
    {
     "data": {
      "text/plain": [
       "<_io.TextIOWrapper name='test.txt' mode='r+' encoding='UTF-8'>"
      ]
     },
     "execution_count": 111,
     "metadata": {},
     "output_type": "execute_result"
    }
   ],
   "source": [
    "with open('test.txt', 'r+') as my_file:\n",
    "    lines = my_file.readlines()\n",
    "    upper_word = [word.upper() for word in lines]\n",
    "    for i in upper_word:\n",
    "        my_file.write(i)\n"
   ]
  },
  {
   "cell_type": "code",
   "execution_count": 107,
   "id": "85aec7a3",
   "metadata": {
    "scrolled": true
   },
   "outputs": [
    {
     "data": {
      "text/plain": [
       "['hello world\\n',\n",
       " 'hello world\\n',\n",
       " 'Hello world\\n',\n",
       " 'hello world\\n',\n",
       " 'hello world\\n',\n",
       " 'HELLO WORLD\\n',\n",
       " 'HELLO WORLD\\n',\n",
       " 'HELLO WORLD\\n',\n",
       " 'HELLO WORLD\\n',\n",
       " 'HELLO WORLD\\n']"
      ]
     },
     "execution_count": 107,
     "metadata": {},
     "output_type": "execute_result"
    }
   ],
   "source": [
    "f = open('test.txt', 'r+')\n",
    "lines = f.readlines()\n",
    "lines[2] = lines[2].capitalize()\n",
    "lines"
   ]
  },
  {
   "cell_type": "code",
   "execution_count": 108,
   "id": "b008e163",
   "metadata": {},
   "outputs": [],
   "source": [
    "f.close()"
   ]
  },
  {
   "cell_type": "code",
   "execution_count": 110,
   "id": "37d2dd23",
   "metadata": {},
   "outputs": [
    {
     "data": {
      "text/plain": [
       "<_io.TextIOWrapper name='test.txt' mode='a' encoding='UTF-8'>"
      ]
     },
     "execution_count": 110,
     "metadata": {},
     "output_type": "execute_result"
    }
   ],
   "source": [
    "file = open('test.txt', 'a')\n",
    "file.write('I Love python')\n",
    "file.close()"
   ]
  }
 ],
 "metadata": {
  "kernelspec": {
   "display_name": "Python 3 (ipykernel)",
   "language": "python",
   "name": "python3"
  },
  "language_info": {
   "codemirror_mode": {
    "name": "ipython",
    "version": 3
   },
   "file_extension": ".py",
   "mimetype": "text/x-python",
   "name": "python",
   "nbconvert_exporter": "python",
   "pygments_lexer": "ipython3",
   "version": "3.10.6"
  }
 },
 "nbformat": 4,
 "nbformat_minor": 5
}
