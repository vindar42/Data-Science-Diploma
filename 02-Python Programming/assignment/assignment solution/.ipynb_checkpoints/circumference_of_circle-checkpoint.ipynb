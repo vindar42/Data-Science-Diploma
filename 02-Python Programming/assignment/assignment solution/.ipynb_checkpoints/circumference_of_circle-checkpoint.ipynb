{
 "cells": [
  {
   "cell_type": "code",
   "execution_count": 3,
   "id": "70241f06",
   "metadata": {},
   "outputs": [
    {
     "name": "stdout",
     "output_type": "stream",
     "text": [
      "pleas enter the raduis: 30\n"
     ]
    }
   ],
   "source": [
    "r = int(input(\"pleas enter the raduis: \"))\n",
    "def circumference_of_circle(radius):\n",
    "    return 2*3.14*radius"
   ]
  },
  {
   "cell_type": "code",
   "execution_count": 4,
   "id": "75d18adc",
   "metadata": {},
   "outputs": [
    {
     "data": {
      "text/plain": [
       "188.4"
      ]
     },
     "execution_count": 4,
     "metadata": {},
     "output_type": "execute_result"
    }
   ],
   "source": [
    "circumference_of_circle(r)"
   ]
  }
 ],
 "metadata": {
  "kernelspec": {
   "display_name": "Python 3 (ipykernel)",
   "language": "python",
   "name": "python3"
  },
  "language_info": {
   "codemirror_mode": {
    "name": "ipython",
    "version": 3
   },
   "file_extension": ".py",
   "mimetype": "text/x-python",
   "name": "python",
   "nbconvert_exporter": "python",
   "pygments_lexer": "ipython3",
   "version": "3.10.6"
  }
 },
 "nbformat": 4,
 "nbformat_minor": 5
}
