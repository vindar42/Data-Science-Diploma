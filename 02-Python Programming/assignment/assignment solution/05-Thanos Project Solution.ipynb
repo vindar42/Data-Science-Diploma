{
 "cells": [
  {
   "cell_type": "code",
   "execution_count": 1,
   "id": "172c9b4e",
   "metadata": {},
   "outputs": [],
   "source": [
    "import os\n",
    "import random\n",
    "import time"
   ]
  },
  {
   "cell_type": "code",
   "execution_count": 2,
   "id": "aabfb671",
   "metadata": {},
   "outputs": [],
   "source": [
    "def show_universe_people(place):\n",
    "    people = os.listdir(place)\n",
    "    return people\n"
   ]
  },
  {
   "cell_type": "code",
   "execution_count": 4,
   "id": "3c54cc15",
   "metadata": {},
   "outputs": [
    {
     "data": {
      "text/plain": [
       "['cover004.png',\n",
       " 'cover037.png',\n",
       " 'cover016.png',\n",
       " 'cover005.png',\n",
       " 'cover011.png',\n",
       " 'cover038.png',\n",
       " 'cover024.png',\n",
       " 'cover014.png',\n",
       " 'cover044.png',\n",
       " 'cover047.png',\n",
       " 'cover017.png',\n",
       " 'cover007.png',\n",
       " 'cover002.png',\n",
       " 'cover041.png',\n",
       " 'cover010.png',\n",
       " 'cover035.png',\n",
       " 'cover040.png',\n",
       " 'cover029.png',\n",
       " 'cover028.png',\n",
       " 'cover039.png',\n",
       " 'cover026.png',\n",
       " 'cover008.png',\n",
       " 'cover001.png',\n",
       " 'cover009.png',\n",
       " 'cover033.png',\n",
       " 'cover022.png',\n",
       " 'cover034.png',\n",
       " 'cover006.png',\n",
       " 'cover049.png',\n",
       " 'cover031.png',\n",
       " 'cover021.png',\n",
       " 'cover018.png',\n",
       " 'cover020.png',\n",
       " 'cover043.png',\n",
       " 'cover046.png',\n",
       " 'cover003.png',\n",
       " 'cover045.png',\n",
       " 'cover050.png',\n",
       " 'cover027.png',\n",
       " 'cover013.png',\n",
       " 'cover019.png',\n",
       " 'cover032.png',\n",
       " 'cover036.png',\n",
       " 'cover023.png',\n",
       " 'cover030.png',\n",
       " 'cover015.png',\n",
       " 'cover048.png',\n",
       " 'cover025.png',\n",
       " 'cover012.png',\n",
       " 'cover042.png']"
      ]
     },
     "execution_count": 4,
     "metadata": {},
     "output_type": "execute_result"
    }
   ],
   "source": [
    "universe = show_universe_people('../../code/Project 1 - Thanos/backup')\n",
    "universe"
   ]
  },
  {
   "cell_type": "code",
   "execution_count": 8,
   "id": "20d0fbd9",
   "metadata": {},
   "outputs": [],
   "source": [
    "def thanos_snap(universe):\n",
    "    half_of_universe = len(universe)\n",
    "    for i in range(half_of_universe):\n",
    "        universe = show_universe_people('../../code/Project 1 - Thanos/backup')\n",
    "        random_victim = random.choice(universe)\n",
    "        #os.remove(f'../code/Project 1 - Thanos/universe/{random_victim}')\n",
    "        old_path = os.path.join('../../code/Project 1 - Thanos/backup', random_victim)\n",
    "        new_path = os.path.join('../../code/Project 1 - Thanos/universe', ''.join([random.choice('abcdefghijklmnopqrstuvwxyz'), '.jpg']))\n",
    "        rename_file = os.rename(old_path, new_path)\n",
    "        time.sleep(1)\n",
    "        print(f\"Rename: ../../code/Project 1 - Thanos/{random_victim}\")\n",
    "    print('Perfectly balanced, as all things should be')\n",
    "\n"
   ]
  },
  {
   "cell_type": "code",
   "execution_count": 9,
   "id": "d665a72b",
   "metadata": {},
   "outputs": [
    {
     "name": "stdout",
     "output_type": "stream",
     "text": [
      "Rename: ../../code/Project 1 - Thanos/cover037.png\n",
      "Rename: ../../code/Project 1 - Thanos/cover039.png\n",
      "Rename: ../../code/Project 1 - Thanos/cover002.png\n",
      "Rename: ../../code/Project 1 - Thanos/cover017.png\n",
      "Rename: ../../code/Project 1 - Thanos/cover003.png\n",
      "Rename: ../../code/Project 1 - Thanos/cover022.png\n",
      "Rename: ../../code/Project 1 - Thanos/cover024.png\n",
      "Rename: ../../code/Project 1 - Thanos/cover042.png\n",
      "Rename: ../../code/Project 1 - Thanos/cover049.png\n",
      "Rename: ../../code/Project 1 - Thanos/cover044.png\n",
      "Rename: ../../code/Project 1 - Thanos/cover030.png\n",
      "Rename: ../../code/Project 1 - Thanos/cover043.png\n",
      "Rename: ../../code/Project 1 - Thanos/cover032.png\n",
      "Rename: ../../code/Project 1 - Thanos/cover045.png\n",
      "Rename: ../../code/Project 1 - Thanos/cover025.png\n",
      "Rename: ../../code/Project 1 - Thanos/cover014.png\n",
      "Rename: ../../code/Project 1 - Thanos/cover011.png\n",
      "Rename: ../../code/Project 1 - Thanos/cover005.png\n",
      "Rename: ../../code/Project 1 - Thanos/cover031.png\n",
      "Rename: ../../code/Project 1 - Thanos/cover012.png\n",
      "Rename: ../../code/Project 1 - Thanos/cover028.png\n",
      "Rename: ../../code/Project 1 - Thanos/cover035.png\n",
      "Rename: ../../code/Project 1 - Thanos/cover026.png\n",
      "Rename: ../../code/Project 1 - Thanos/cover046.png\n",
      "Rename: ../../code/Project 1 - Thanos/cover010.png\n",
      "Rename: ../../code/Project 1 - Thanos/cover009.png\n",
      "Rename: ../../code/Project 1 - Thanos/cover047.png\n",
      "Rename: ../../code/Project 1 - Thanos/cover006.png\n",
      "Rename: ../../code/Project 1 - Thanos/cover023.png\n",
      "Rename: ../../code/Project 1 - Thanos/cover015.png\n",
      "Rename: ../../code/Project 1 - Thanos/cover027.png\n",
      "Rename: ../../code/Project 1 - Thanos/cover019.png\n",
      "Rename: ../../code/Project 1 - Thanos/cover018.png\n",
      "Rename: ../../code/Project 1 - Thanos/cover038.png\n",
      "Rename: ../../code/Project 1 - Thanos/cover004.png\n",
      "Rename: ../../code/Project 1 - Thanos/cover036.png\n",
      "Rename: ../../code/Project 1 - Thanos/cover001.png\n",
      "Rename: ../../code/Project 1 - Thanos/cover033.png\n",
      "Rename: ../../code/Project 1 - Thanos/cover034.png\n",
      "Rename: ../../code/Project 1 - Thanos/cover050.png\n",
      "Rename: ../../code/Project 1 - Thanos/cover008.png\n",
      "Rename: ../../code/Project 1 - Thanos/cover040.png\n",
      "Rename: ../../code/Project 1 - Thanos/cover020.png\n",
      "Rename: ../../code/Project 1 - Thanos/cover013.png\n",
      "Rename: ../../code/Project 1 - Thanos/cover041.png\n",
      "Rename: ../../code/Project 1 - Thanos/cover029.png\n",
      "Rename: ../../code/Project 1 - Thanos/cover021.png\n",
      "Rename: ../../code/Project 1 - Thanos/cover016.png\n",
      "Rename: ../../code/Project 1 - Thanos/cover048.png\n",
      "Rename: ../../code/Project 1 - Thanos/cover007.png\n",
      "Perfectly balanced, as all things should be\n"
     ]
    }
   ],
   "source": [
    "thanos_snap(universe)"
   ]
  },
  {
   "cell_type": "code",
   "execution_count": null,
   "id": "680aefcc",
   "metadata": {},
   "outputs": [],
   "source": []
  }
 ],
 "metadata": {
  "kernelspec": {
   "display_name": "Python 3 (ipykernel)",
   "language": "python",
   "name": "python3"
  },
  "language_info": {
   "codemirror_mode": {
    "name": "ipython",
    "version": 3
   },
   "file_extension": ".py",
   "mimetype": "text/x-python",
   "name": "python",
   "nbconvert_exporter": "python",
   "pygments_lexer": "ipython3",
   "version": "3.10.6"
  }
 },
 "nbformat": 4,
 "nbformat_minor": 5
}
