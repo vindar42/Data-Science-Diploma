{
 "cells": [
  {
   "cell_type": "code",
   "execution_count": 1,
   "id": "3b781f99",
   "metadata": {},
   "outputs": [],
   "source": [
    "# create file name if test.txt\n",
    "with open('test.txt', 'w') as my_file:\n",
    "    my_file.writelines('hello world\\n'*5)\n"
   ]
  },
  {
   "cell_type": "code",
   "execution_count": 2,
   "id": "c415ff03",
   "metadata": {},
   "outputs": [],
   "source": [
    "with open('test.txt', 'r+') as my_file:\n",
    "    lines = my_file.readlines()\n",
    "    upper_word = [word.upper() for word in lines]\n",
    "    for i in upper_word:\n",
    "        my_file.write(i)\n"
   ]
  },
  {
   "cell_type": "code",
   "execution_count": 3,
   "id": "69d1e65c",
   "metadata": {},
   "outputs": [
    {
     "data": {
      "text/plain": [
       "['hello world\\n',\n",
       " 'hello world\\n',\n",
       " 'Hello world\\n',\n",
       " 'hello world\\n',\n",
       " 'hello world\\n',\n",
       " 'HELLO WORLD\\n',\n",
       " 'HELLO WORLD\\n',\n",
       " 'HELLO WORLD\\n',\n",
       " 'HELLO WORLD\\n',\n",
       " 'HELLO WORLD\\n']"
      ]
     },
     "execution_count": 3,
     "metadata": {},
     "output_type": "execute_result"
    }
   ],
   "source": [
    "f = open('test.txt', 'r+')\n",
    "lines = f.readlines()\n",
    "lines[2] = lines[2].capitalize()\n",
    "lines"
   ]
  },
  {
   "cell_type": "code",
   "execution_count": 5,
   "id": "a1950c38",
   "metadata": {},
   "outputs": [],
   "source": [
    "f.close()"
   ]
  },
  {
   "cell_type": "code",
   "execution_count": 6,
   "id": "ee0ea043",
   "metadata": {},
   "outputs": [],
   "source": [
    "file = open('test.txt', 'a')\n",
    "file.write('I Love python')\n",
    "file.close()"
   ]
  }
 ],
 "metadata": {
  "kernelspec": {
   "display_name": "Python 3 (ipykernel)",
   "language": "python",
   "name": "python3"
  },
  "language_info": {
   "codemirror_mode": {
    "name": "ipython",
    "version": 3
   },
   "file_extension": ".py",
   "mimetype": "text/x-python",
   "name": "python",
   "nbconvert_exporter": "python",
   "pygments_lexer": "ipython3",
   "version": "3.10.6"
  }
 },
 "nbformat": 4,
 "nbformat_minor": 5
}
